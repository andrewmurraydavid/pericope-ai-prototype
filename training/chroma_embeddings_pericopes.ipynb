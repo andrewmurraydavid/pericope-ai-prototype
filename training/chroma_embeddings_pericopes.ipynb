{
  "cells": [
    {
      "cell_type": "markdown",
      "metadata": {},
      "source": [
        "## Install the required packages"
      ]
    },
    {
      "cell_type": "code",
      "execution_count": null,
      "metadata": {
        "id": "XRvrIcOWdJcY"
      },
      "outputs": [],
      "source": [
        "! pip install -q pandas sentence_transformers\n",
        "! pip install -q chromadb-client\n",
        "! pip install -q uuid\n",
        "! pip install -q python-dotenv"
      ]
    },
    {
      "cell_type": "markdown",
      "metadata": {},
      "source": [
        "## Import the necessary libraries"
      ]
    },
    {
      "cell_type": "code",
      "execution_count": null,
      "metadata": {},
      "outputs": [],
      "source": [
        "# All the import statements are in the first cell of the notebook\n",
        "import os\n",
        "import json\n",
        "import uuid\n",
        "import chromadb\n",
        "import numpy as np\n",
        "import pandas as pd\n",
        "from time import sleep\n",
        "from dotenv import load_dotenv\n",
        "from chromadb import Settings, utils\n",
        "from chromadb.utils.embedding_functions import SentenceTransformerEmbeddingFunction\n",
        "\n",
        "load_dotenv()"
      ]
    },
    {
      "cell_type": "markdown",
      "metadata": {},
      "source": [
        "## Setup chromadb connection to collection"
      ]
    },
    {
      "cell_type": "code",
      "execution_count": null,
      "metadata": {},
      "outputs": [],
      "source": [
        "# Setup the environment variables\n",
        "\n",
        "MODEL_NAME=os.environ.get('MODEL_NAME', 'all-distilroberta-v1')\n",
        "CHROMA_HOST=os.environ.get('CHROMA_HOST', 'localhost')\n",
        "CHROMA_PORT=int(os.environ.get('CHROMA_PORT', '8000'))\n",
        "CHROMA_SSL=int(os.environ.get('CHROMA_SSL', '0')) == 1\n",
        "COLLECTION_NAME=os.environ.get('COLLECTION_NAME', 'test-collection')\n",
        "\n",
        "\n",
        "client = chromadb.HttpClient(host=CHROMA_HOST, port=CHROMA_PORT, ssl=CHROMA_SSL)\n",
        "\n",
        "sentence_transformer_ef = SentenceTransformerEmbeddingFunction(\n",
        "    model_name=MODEL_NAME\n",
        ")\n",
        "\n",
        "collection = client.get_or_create_collection(COLLECTION_NAME, embedding_function=sentence_transformer_ef)"
      ]
    },
    {
      "cell_type": "markdown",
      "metadata": {},
      "source": [
        "## Read the pericopes and bible verses CSVs"
      ]
    },
    {
      "cell_type": "code",
      "execution_count": null,
      "metadata": {
        "colab": {
          "base_uri": "https://localhost:8080/",
          "height": 424
        },
        "id": "bWstDWX6eFOT",
        "outputId": "1dd37a1f-6271-43e2-ac10-e84e16551c9f"
      },
      "outputs": [],
      "source": [
        "pericopes_df = pd.read_csv('./files/pericopes_data_v1.csv')\n",
        "bible_df = pd.read_csv('./files/asv.csv')\n",
        "pericopes_df['Pericope'] = pericopes_df['Pericope'].fillna('')\n",
        "\n",
        "bible_df['Chapter'] = bible_df['Chapter'].astype(int)\n",
        "bible_df['Verse'] = bible_df['Verse'].astype(int)\n",
        "\n",
        "bible_df.rename(columns={'Book Name' : 'Book'}, inplace=True)\n",
        "bible_df.drop(columns=['Book Number'], inplace=True)\n",
        "\n",
        "bible_df['Text'] = bible_df['Text'].fillna('')\n",
        "\n",
        "bible_df.head()"
      ]
    },
    {
      "cell_type": "markdown",
      "metadata": {},
      "source": [
        "### If we want to make any changes to our data, we can do it here"
      ]
    },
    {
      "cell_type": "code",
      "execution_count": null,
      "metadata": {},
      "outputs": [],
      "source": [
        "# We can add or remove pericopes from the dataframe here:\n",
        "\n",
        "# # Add \"The ten plagues in Egypt\" to the dataframe\n",
        "# new_row = pd.DataFrame({\n",
        "#     'Book': ['Exodus'],\n",
        "#     'Chapter': [7],\n",
        "#     'Pericope': ['The ten plagues in Egypt'],\n",
        "#     'RefId': ['Exodus 7:14-13:6'],\n",
        "#     'start': ['Exodus.7.14'],\n",
        "#     'end': ['Exodus.13.6'],\n",
        "# })\n",
        "\n",
        "# pericopes_df = pd.concat([pericopes_df, new_row], ignore_index=True)"
      ]
    },
    {
      "cell_type": "code",
      "execution_count": null,
      "metadata": {
        "colab": {
          "base_uri": "https://localhost:8080/",
          "height": 424
        },
        "id": "hZ1qOoYmrx6r",
        "outputId": "3138b0fd-a291-4bcf-b545-2b35a53f6312"
      },
      "outputs": [],
      "source": [
        "def create_pid(row):\n",
        "    pericope = row['Pericope']\n",
        "    reference = row['RefId'].split(':')[0]\n",
        "\n",
        "    # Remove anything that is not a letter, digit or a space\n",
        "    pericope = re.sub(r'[^\\w\\s]', '', pericope)\n",
        "    title = f\"{reference}__{pericope}\".replace('  ', ' ')\n",
        "    id = title.replace('\"', '').replace(\"'\", '').upper()\n",
        "    id = ' '.join(id.split())\n",
        "    id = id.replace(' ', '_')\n",
        "    return id\n",
        "\n",
        "# Apply the function to the 'Pericope' column\n",
        "pericopes_df['PID'] = pericopes_df.apply(create_pid, axis=1)"
      ]
    },
    {
      "cell_type": "markdown",
      "metadata": {},
      "source": [
        "#### `get_pericope_text` merges all the verses of a pericope into one string"
      ]
    },
    {
      "cell_type": "code",
      "execution_count": null,
      "metadata": {
        "id": "RTJUnS35e9Zg"
      },
      "outputs": [],
      "source": [
        "def get_pericope_text(book, start, end):\n",
        "    start_chapter, start_verse = map(int, start.split('.')[1:])\n",
        "    end_chapter, end_verse = map(int, end.split('.')[1:])\n",
        "\n",
        "    if start_chapter == end_chapter:\n",
        "        # Pericope is within one chapter\n",
        "        pericope_text = bible_df[(bible_df['Book'] == book) &\n",
        "                                 (bible_df['Chapter'] == start_chapter) &\n",
        "                                 (bible_df['Verse'].between(start_verse, end_verse))]['Text']\n",
        "        return ' '.join(pericope_text)\n",
        "    else:\n",
        "        # Pericope spans multiple chapters\n",
        "        pericope_text = []\n",
        "        for chapter in range(start_chapter, end_chapter + 1):\n",
        "            if chapter == start_chapter:\n",
        "                # First chapter, get all verses starting from start_verse\n",
        "                verses = bible_df[(bible_df['Book'] == book) &\n",
        "                                  (bible_df['Chapter'] == chapter) &\n",
        "                                  (bible_df['Verse'] >= start_verse)]['Text']\n",
        "            elif chapter == end_chapter:\n",
        "                # Last chapter, get all verses up to end_verse\n",
        "                verses = bible_df[(bible_df['Book'] == book) &\n",
        "                                  (bible_df['Chapter'] == chapter) &\n",
        "                                  (bible_df['Verse'] <= end_verse)]['Text']\n",
        "            else:\n",
        "                # Middle chapters, get all verses\n",
        "                verses = bible_df[(bible_df['Book'] == book) &\n",
        "                                  (bible_df['Chapter'] == chapter)]['Text']\n",
        "            pericope_text.extend(verses)\n",
        "    return ' '.join(pericope_text)\n"
      ]
    },
    {
      "cell_type": "markdown",
      "metadata": {},
      "source": [
        "### Prepare the data into a format that can be used by the model"
      ]
    },
    {
      "cell_type": "code",
      "execution_count": null,
      "metadata": {
        "id": "agDw369mgReN"
      },
      "outputs": [],
      "source": [
        "pericopes_content = []\n",
        "for _, row in pericopes_df.iterrows():\n",
        "    pericope_text = get_pericope_text(row['Book'], row['start'], row['end'])\n",
        "    pericope = row['Pericope']\n",
        "    reference = row['RefId']\n",
        "    ref_start = row['start']\n",
        "    ref_end = row['end']\n",
        "    pericopes_content.append({\n",
        "        'PID': row['PID'],\n",
        "        'Pericope': pericope,\n",
        "        'Text': pericope_text,\n",
        "        'Reference': reference,\n",
        "        'RefStart': ref_start,\n",
        "        'RefEnd': ref_end\n",
        "      })\n",
        "\n",
        "pericopes_content_df = pd.DataFrame(pericopes_content)\n",
        "\n",
        "# Fill NaNs with empty string to avoid parsing issues\n",
        "pericopes_content_df['Text'] = pericopes_content_df['Text'].fillna('')\n"
      ]
    },
    {
      "cell_type": "markdown",
      "metadata": {},
      "source": [
        "#### Setup an iterrable array\n",
        "\n",
        "> Might remove this later as the dataframe is already iterrable"
      ]
    },
    {
      "cell_type": "code",
      "execution_count": null,
      "metadata": {
        "id": "DubiNOFXgICe"
      },
      "outputs": [],
      "source": [
        "pericope_data = []\n",
        "\n",
        "for index, row in pericopes_content_df.iterrows():\n",
        "  data_row = {}\n",
        "  data_row['pid'] = row['PID']\n",
        "  data_row['title'] = row['Pericope']\n",
        "  data_row['content'] = row['Text']\n",
        "  data_row['reference'] = row['Reference']\n",
        "  data_row['start'] = row['RefStart']\n",
        "  data_row['end'] = row['RefEnd']\n",
        "  pericope_data.append(data_row)\n"
      ]
    },
    {
      "cell_type": "markdown",
      "metadata": {},
      "source": [
        "## Add the data (and have it embedded) in ChromaDB"
      ]
    },
    {
      "cell_type": "code",
      "execution_count": null,
      "metadata": {
        "id": "CMv6nA77gGs2"
      },
      "outputs": [],
      "source": [
        "def add_data_to_collection(data_list):\n",
        "  # Add pericopes to the Chroma collection, it can be a batch of data\n",
        "  for pericope in data_list:\n",
        "    title = pericope['title']\n",
        "    pid = pericope['pid']\n",
        "    content = pericope[\"content\"]\n",
        "    reference = pericope[\"reference\"]\n",
        "    uid = str(uuid.uuid4())\n",
        "    \n",
        "\n",
        "    metadatas = {\n",
        "        \"id\": uid,\n",
        "        \"pid\": pid,\n",
        "        \"pericope\": title,\n",
        "        \"reference\": reference,\n",
        "        \"content\": content,\n",
        "        \"start\": pericope['start'],\n",
        "        \"end\": pericope['end']\n",
        "      }\n",
        "\n",
        "  try:\n",
        "    collection.upsert(\n",
        "        ids=[uid],\n",
        "        documents=[content],\n",
        "        metadatas=[metadatas]\n",
        "    )\n",
        "    return True\n",
        "  except Exception as e:\n",
        "    print(f'Error upserting \"{reference}, {title}\" to collection')\n",
        "    raise e"
      ]
    },
    {
      "cell_type": "code",
      "execution_count": null,
      "metadata": {
        "colab": {
          "base_uri": "https://localhost:8080/"
        },
        "id": "EmgmOJMgyczf",
        "outputId": "37f08d44-3804-4485-e1d6-d5e09da89a97"
      },
      "outputs": [],
      "source": [
        "for i in range(0, len(pericope_data)):\n",
        "  add_data_to_collection(pericope_data[i:i+1])\n",
        "  title = pericope_data[i]['title']\n",
        "  reference = pericope_data[i]['reference']\n",
        "\n",
        "  print(f'Upserted {i + 1} of {len(pericope_data)}: {reference} -- \"{title}\" to collection')\n",
        "  print(f'Added ')\n",
        "  # sleep to avoid rate limiting\n",
        "  sleep(0.1)\n"
      ]
    },
    {
      "cell_type": "markdown",
      "metadata": {},
      "source": [
        "## Predict the pericope of a given a user inputted Story Name"
      ]
    },
    {
      "cell_type": "code",
      "execution_count": null,
      "metadata": {
        "colab": {
          "base_uri": "https://localhost:8080/"
        },
        "id": "tGHIiRJRmiqp",
        "outputId": "437bcaae-1209-4436-c2ca-8767b8b03fac"
      },
      "outputs": [],
      "source": [
        "# Function to find the closest matches using Chroma\n",
        "def predict_pericopes(story_name, n=10):\n",
        "    results = collection.query(\n",
        "        query_texts=story_name,\n",
        "        n_results=n,\n",
        "        include=[\"metadatas\", \"distances\"]\n",
        "    )\n",
        "    matched_pericopes = results\n",
        "    array_of_objects = [{ 'id': id_val, \"pericope\": meta['pericope'], 'distance': dist, 'metadata': { \"pericope\": meta['pericope'], \"reference\": meta['reference'], \"start\": meta['start'], \"end\": meta['end'] } }\n",
        "        for id_list, dist_list, meta_list in zip(matched_pericopes['ids'], matched_pericopes['distances'], matched_pericopes['metadatas'])\n",
        "        for id_val, dist, meta in zip(id_list, dist_list, meta_list)\n",
        "    ]\n",
        "    pretty_json = json.dumps(array_of_objects, indent=4)\n",
        "    return pretty_json\n",
        "\n",
        "# user_query = \"God parts the Red sea\"\n",
        "# user_query = \"Jesus walking on water\"\n",
        "# user_query = \"John gets to the grave before Peter\"\n",
        "user_query = \"Peter falls in sea lack of faith\"\n",
        "\n",
        "print(predict_pericopes(user_query))\n"
      ]
    }
  ],
  "metadata": {
    "accelerator": "TPU",
    "colab": {
      "provenance": []
    },
    "kernelspec": {
      "display_name": "Python 3",
      "name": "python3"
    },
    "language_info": {
      "codemirror_mode": {
        "name": "ipython",
        "version": 3
      },
      "file_extension": ".py",
      "mimetype": "text/x-python",
      "name": "python",
      "nbconvert_exporter": "python",
      "pygments_lexer": "ipython3",
      "version": "3.11.4"
    }
  },
  "nbformat": 4,
  "nbformat_minor": 0
}
